{
  "nbformat": 4,
  "nbformat_minor": 0,
  "metadata": {
    "colab": {
      "name": "tribes_ai.ipynb",
      "provenance": [],
      "collapsed_sections": []
    },
    "kernelspec": {
      "name": "python3",
      "display_name": "Python 3"
    }
  },
  "cells": [
    {
      "cell_type": "code",
      "metadata": {
        "id": "QEyN-OYzlUdJ",
        "colab_type": "code",
        "colab": {}
      },
      "source": [
        "import pandas as pd"
      ],
      "execution_count": 0,
      "outputs": []
    },
    {
      "cell_type": "code",
      "metadata": {
        "id": "9CMVQ3fwl16L",
        "colab_type": "code",
        "colab": {}
      },
      "source": [
        "schema= pd.read_csv(\"Schema.csv\")"
      ],
      "execution_count": 0,
      "outputs": []
    },
    {
      "cell_type": "code",
      "metadata": {
        "id": "eI7V5xSdl7vx",
        "colab_type": "code",
        "outputId": "28b3c27a-e2af-44d5-c675-a5512d849b7c",
        "colab": {
          "base_uri": "https://localhost:8080/",
          "height": 750
        }
      },
      "source": [
        "schema"
      ],
      "execution_count": 3,
      "outputs": [
        {
          "output_type": "execute_result",
          "data": {
            "text/html": [
              "<div>\n",
              "<style scoped>\n",
              "    .dataframe tbody tr th:only-of-type {\n",
              "        vertical-align: middle;\n",
              "    }\n",
              "\n",
              "    .dataframe tbody tr th {\n",
              "        vertical-align: top;\n",
              "    }\n",
              "\n",
              "    .dataframe thead th {\n",
              "        text-align: right;\n",
              "    }\n",
              "</style>\n",
              "<table border=\"1\" class=\"dataframe\">\n",
              "  <thead>\n",
              "    <tr style=\"text-align: right;\">\n",
              "      <th></th>\n",
              "      <th>Seq_id</th>\n",
              "      <th>Label (Primary)</th>\n",
              "      <th>RelationshipName</th>\n",
              "      <th>Node/Relationship</th>\n",
              "      <th>Pair</th>\n",
              "      <th>Pair_seq_ids</th>\n",
              "      <th>IdObject</th>\n",
              "      <th>TimeCreated</th>\n",
              "      <th>Name</th>\n",
              "      <th>MetricIsInternational</th>\n",
              "      <th>TimeEvent</th>\n",
              "    </tr>\n",
              "  </thead>\n",
              "  <tbody>\n",
              "    <tr>\n",
              "      <th>0</th>\n",
              "      <td>1</td>\n",
              "      <td>Team</td>\n",
              "      <td>NaN</td>\n",
              "      <td>Node</td>\n",
              "      <td>NaN</td>\n",
              "      <td>NaN</td>\n",
              "      <td>payload►teams►0-N►id</td>\n",
              "      <td>Populate time of creation</td>\n",
              "      <td>payload►teams►0-N►name</td>\n",
              "      <td>NaN</td>\n",
              "      <td>NaN</td>\n",
              "    </tr>\n",
              "    <tr>\n",
              "      <th>1</th>\n",
              "      <td>2</td>\n",
              "      <td>Ground</td>\n",
              "      <td>NaN</td>\n",
              "      <td>Node</td>\n",
              "      <td>NaN</td>\n",
              "      <td>NaN</td>\n",
              "      <td>payload►grounds►0-N►ground_id</td>\n",
              "      <td>Populate time of creation</td>\n",
              "      <td>payload►grounds►0-N►ground_id</td>\n",
              "      <td>payload►grounds►0-N►host_international</td>\n",
              "      <td>NaN</td>\n",
              "    </tr>\n",
              "    <tr>\n",
              "      <th>2</th>\n",
              "      <td>3</td>\n",
              "      <td>City</td>\n",
              "      <td>NaN</td>\n",
              "      <td>Node</td>\n",
              "      <td>NaN</td>\n",
              "      <td>NaN</td>\n",
              "      <td>payload►grounds►0-N►location►city</td>\n",
              "      <td>Populate time of creation</td>\n",
              "      <td>payload►grounds►0-N►location►city</td>\n",
              "      <td>NaN</td>\n",
              "      <td>NaN</td>\n",
              "    </tr>\n",
              "    <tr>\n",
              "      <th>3</th>\n",
              "      <td>4</td>\n",
              "      <td>State</td>\n",
              "      <td>NaN</td>\n",
              "      <td>Node</td>\n",
              "      <td>NaN</td>\n",
              "      <td>NaN</td>\n",
              "      <td>payload►grounds►0-N►location►state</td>\n",
              "      <td>Populate time of creation</td>\n",
              "      <td>payload►grounds►0-N►location►state</td>\n",
              "      <td>NaN</td>\n",
              "      <td>NaN</td>\n",
              "    </tr>\n",
              "    <tr>\n",
              "      <th>4</th>\n",
              "      <td>5</td>\n",
              "      <td>Country</td>\n",
              "      <td>NaN</td>\n",
              "      <td>Node</td>\n",
              "      <td>NaN</td>\n",
              "      <td>NaN</td>\n",
              "      <td>payload►grounds►0-N►location►country</td>\n",
              "      <td>Populate time of creation</td>\n",
              "      <td>payload►grounds►0-N►location►country</td>\n",
              "      <td>NaN</td>\n",
              "      <td>NaN</td>\n",
              "    </tr>\n",
              "    <tr>\n",
              "      <th>5</th>\n",
              "      <td>6</td>\n",
              "      <td>Player</td>\n",
              "      <td>NaN</td>\n",
              "      <td>Node</td>\n",
              "      <td>NaN</td>\n",
              "      <td>NaN</td>\n",
              "      <td>payload►teams►0-N►members►0-N►player_id</td>\n",
              "      <td>Populate time of creation</td>\n",
              "      <td>payload►teams►0-N►members►0-N►name</td>\n",
              "      <td>NaN</td>\n",
              "      <td>NaN</td>\n",
              "    </tr>\n",
              "    <tr>\n",
              "      <th>6</th>\n",
              "      <td>7</td>\n",
              "      <td>Player</td>\n",
              "      <td>NaN</td>\n",
              "      <td>Node</td>\n",
              "      <td>NaN</td>\n",
              "      <td>NaN</td>\n",
              "      <td>payload►teams►sport►player_of_the_match</td>\n",
              "      <td>Populate time of creation</td>\n",
              "      <td>NaN</td>\n",
              "      <td>NaN</td>\n",
              "      <td>NaN</td>\n",
              "    </tr>\n",
              "    <tr>\n",
              "      <th>7</th>\n",
              "      <td>8</td>\n",
              "      <td>Match</td>\n",
              "      <td>NaN</td>\n",
              "      <td>Node</td>\n",
              "      <td>NaN</td>\n",
              "      <td>NaN</td>\n",
              "      <td>payload►sport►match_id</td>\n",
              "      <td>Populate time of creation</td>\n",
              "      <td>payload►sport►match_id</td>\n",
              "      <td>NaN</td>\n",
              "      <td>NaN</td>\n",
              "    </tr>\n",
              "    <tr>\n",
              "      <th>8</th>\n",
              "      <td>9</td>\n",
              "      <td>NaN</td>\n",
              "      <td>PLAYED_WITH</td>\n",
              "      <td>Relationship</td>\n",
              "      <td>Team-&gt;Team</td>\n",
              "      <td>(1)-&gt;(1)</td>\n",
              "      <td>NaN</td>\n",
              "      <td>NaN</td>\n",
              "      <td>NaN</td>\n",
              "      <td>NaN</td>\n",
              "      <td>NaN</td>\n",
              "    </tr>\n",
              "    <tr>\n",
              "      <th>9</th>\n",
              "      <td>10</td>\n",
              "      <td>NaN</td>\n",
              "      <td>PLAYED</td>\n",
              "      <td>Relationship</td>\n",
              "      <td>Team-&gt;Match</td>\n",
              "      <td>(1)-&gt;(7)</td>\n",
              "      <td>NaN</td>\n",
              "      <td>NaN</td>\n",
              "      <td>NaN</td>\n",
              "      <td>NaN</td>\n",
              "      <td>NaN</td>\n",
              "    </tr>\n",
              "    <tr>\n",
              "      <th>10</th>\n",
              "      <td>11</td>\n",
              "      <td>NaN</td>\n",
              "      <td>PLAYER_OF_THE_MATCH</td>\n",
              "      <td>Relationship</td>\n",
              "      <td>Match-&gt;Player</td>\n",
              "      <td>(8)-&gt;(7)</td>\n",
              "      <td>NaN</td>\n",
              "      <td>NaN</td>\n",
              "      <td>NaN</td>\n",
              "      <td>NaN</td>\n",
              "      <td>NaN</td>\n",
              "    </tr>\n",
              "  </tbody>\n",
              "</table>\n",
              "</div>"
            ],
            "text/plain": [
              "    Seq_id Label (Primary)  ...                   MetricIsInternational TimeEvent\n",
              "0        1            Team  ...                                     NaN       NaN\n",
              "1        2          Ground  ...  payload►grounds►0-N►host_international       NaN\n",
              "2        3            City  ...                                     NaN       NaN\n",
              "3        4           State  ...                                     NaN       NaN\n",
              "4        5         Country  ...                                     NaN       NaN\n",
              "5        6          Player  ...                                     NaN       NaN\n",
              "6        7          Player  ...                                     NaN       NaN\n",
              "7        8           Match  ...                                     NaN       NaN\n",
              "8        9             NaN  ...                                     NaN       NaN\n",
              "9       10             NaN  ...                                     NaN       NaN\n",
              "10      11             NaN  ...                                     NaN       NaN\n",
              "\n",
              "[11 rows x 11 columns]"
            ]
          },
          "metadata": {
            "tags": []
          },
          "execution_count": 3
        }
      ]
    },
    {
      "cell_type": "code",
      "metadata": {
        "id": "FRaSgkOgmAo8",
        "colab_type": "code",
        "colab": {}
      },
      "source": [
        "import json\n",
        "import codecs"
      ],
      "execution_count": 0,
      "outputs": []
    },
    {
      "cell_type": "code",
      "metadata": {
        "id": "AZhLsEwJn_El",
        "colab_type": "code",
        "colab": {}
      },
      "source": [
        "json_file=json.load(codecs.open('tribesai.json', 'r', 'utf-8-sig'))"
      ],
      "execution_count": 0,
      "outputs": []
    },
    {
      "cell_type": "code",
      "metadata": {
        "id": "hVyHs3eD0GLu",
        "colab_type": "code",
        "colab": {
          "base_uri": "https://localhost:8080/",
          "height": 34
        },
        "outputId": "3215b276-db8e-4381-ea26-6483e83af2bf"
      },
      "source": [
        "type(json_file)"
      ],
      "execution_count": 13,
      "outputs": [
        {
          "output_type": "execute_result",
          "data": {
            "text/plain": [
              "dict"
            ]
          },
          "metadata": {
            "tags": []
          },
          "execution_count": 13
        }
      ]
    },
    {
      "cell_type": "code",
      "metadata": {
        "id": "C6lQ4fxr0UPC",
        "colab_type": "code",
        "colab": {}
      },
      "source": [
        ""
      ],
      "execution_count": 0,
      "outputs": []
    }
  ]
}